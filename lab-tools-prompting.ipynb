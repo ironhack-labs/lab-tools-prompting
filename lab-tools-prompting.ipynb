{
 "cells": [
  {
   "cell_type": "markdown",
   "id": "77f66dbe-192b-471c-9cb8-e9b365e61bbb",
   "metadata": {},
   "source": [
    "# Lab | Tools prompting\n",
    "\n",
    "**Replace the existing two tools decorators, by creating 3 new ones and adjust the prompts accordingly**"
   ]
  },
  {
   "cell_type": "markdown",
   "id": "14b94240",
   "metadata": {},
   "source": [
    "### How to add ad-hoc tool calling capability to LLMs and Chat Models\n",
    "\n",
    ":::{.callout-caution}\n",
    "\n",
    "Some models have been fine-tuned for tool calling and provide a dedicated API for tool calling. Generally, such models are better at tool calling than non-fine-tuned models, and are recommended for use cases that require tool calling. Please see the [how to use a chat model to call tools](/docs/how_to/tool_calling) guide for more information.\n",
    "\n",
    "In this guide, we'll see how to add **ad-hoc** tool calling support to a chat model. This is an alternative method to invoke tools if you're using a model that does not natively support tool calling.\n",
    "\n",
    "We'll do this by simply writing a prompt that will get the model to invoke the appropriate tools. Here's a diagram of the logic:\n",
    "\n",
    "<br>\n",
    "\n",
    "![chain](https://education-team-2020.s3.eu-west-1.amazonaws.com/ai-eng/tool_chain.svg)"
   ]
  },
  {
   "cell_type": "markdown",
   "id": "a0a22cb8-19e7-450a-9d1b-6848d2c81cd1",
   "metadata": {},
   "source": [
    "## Setup\n",
    "\n",
    "We'll need to install the following packages:"
   ]
  },
  {
   "cell_type": "code",
   "execution_count": 1,
   "id": "8c556c5e-b785-428b-8e7d-efd34a2a1adb",
   "metadata": {},
   "outputs": [],
   "source": [
    "!pip install --upgrade --quiet langchain langchain-community"
   ]
  },
  {
   "cell_type": "markdown",
   "id": "897bc01e-cc2b-4400-8a64-db4aa56085d3",
   "metadata": {},
   "source": [
    "If you'd like to use LangSmith, uncomment the below:"
   ]
  },
  {
   "cell_type": "markdown",
   "id": "7ec6409b-21e5-4d0a-8a46-c4ef0b055dd3",
   "metadata": {},
   "source": [
    "You can select any of the given models for this how-to guide. Keep in mind that most of these models already [support native tool calling](/docs/integrations/chat/), so using the prompting strategy shown here doesn't make sense for these models, and instead you should follow the [how to use a chat model to call tools](/docs/how_to/tool_calling) guide.\n",
    "\n",
    "```{=mdx}\n",
    "import ChatModelTabs from \"@theme/ChatModelTabs\";\n",
    "\n",
    "<ChatModelTabs openaiParams={`model=\"gpt-4\"`} />\n",
    "```\n",
    "\n",
    "To illustrate the idea, we'll use `phi3` via Ollama, which does **NOT** have native support for tool calling. If you'd like to use `Ollama` as well follow [these instructions](/docs/integrations/chat/ollama/)."
   ]
  },
  {
   "cell_type": "code",
   "execution_count": null,
   "id": "e532ac51",
   "metadata": {},
   "outputs": [],
   "source": [
    "!pip install langchain-ollama"
   ]
  },
  {
   "cell_type": "code",
   "execution_count": 2,
   "id": "424be968-2806-4d1a-a6aa-5499ae20fac5",
   "metadata": {},
   "outputs": [],
   "source": [
    "from langchain_community.llms import Ollama\n",
    "from langchain_ollama import OllamaLLM\n",
    "\n",
    "model = OllamaLLM(model=\"phi3\")\n",
    "#model = Ollama(model=\"phi3\")"
   ]
  },
  {
   "cell_type": "markdown",
   "id": "68946881",
   "metadata": {},
   "source": [
    "## Create a tool\n",
    "\n",
    "First, let's create an `add` and `multiply` tools. For more information on creating custom tools, please see [this guide](/docs/how_to/custom_tools)."
   ]
  },
  {
   "cell_type": "code",
   "execution_count": 26,
   "id": "4548e6fa-0f9b-4d7a-8fa5-66cec0350e5f",
   "metadata": {},
   "outputs": [
    {
     "name": "stdout",
     "output_type": "stream",
     "text": [
      "--\n",
      "multiply\n",
      "Multiply two numbers together.\n",
      "{'x': {'title': 'X', 'type': 'number'}, 'y': {'title': 'Y', 'type': 'number'}}\n",
      "--\n",
      "add\n",
      "Add two numbers.\n",
      "{'x': {'title': 'X', 'type': 'integer'}, 'y': {'title': 'Y', 'type': 'integer'}}\n"
     ]
    }
   ],
   "source": [
    "from langchain_core.tools import tool\n",
    "\n",
    "\n",
    "@tool\n",
    "def multiply(x: float, y: float) -> float:\n",
    "    \"\"\"Multiply two numbers together.\"\"\"\n",
    "    return x * y\n",
    "\n",
    "\n",
    "@tool\n",
    "def add(x: int, y: int) -> int:\n",
    "    \"Add two numbers.\"\n",
    "    return x + y\n",
    "\n",
    "\n",
    "tools = [multiply, add]\n",
    "\n",
    "# Let's inspect the tools\n",
    "for t in tools:\n",
    "    print(\"--\")\n",
    "    print(t.name)\n",
    "    print(t.description)\n",
    "    print(t.args)"
   ]
  },
  {
   "cell_type": "code",
   "execution_count": 27,
   "id": "be77e780",
   "metadata": {},
   "outputs": [
    {
     "data": {
      "text/plain": [
       "20.0"
      ]
     },
     "execution_count": 27,
     "metadata": {},
     "output_type": "execute_result"
    }
   ],
   "source": [
    "multiply.invoke({\"x\": 4, \"y\": 5})"
   ]
  },
  {
   "cell_type": "markdown",
   "id": "15dd690e-e54d-4209-91a4-181f69a452ac",
   "metadata": {},
   "source": [
    "## Creating our prompt\n",
    "\n",
    "We'll want to write a prompt that specifies the tools the model has access to, the arguments to those tools, and the desired output format of the model. In this case we'll instruct it to output a JSON blob of the form `{\"name\": \"...\", \"arguments\": {...}}`."
   ]
  },
  {
   "cell_type": "code",
   "execution_count": 28,
   "id": "2063b564-25ca-4729-a45f-ba4633175b04",
   "metadata": {},
   "outputs": [
    {
     "name": "stdout",
     "output_type": "stream",
     "text": [
      "multiply(x: float, y: float) -> float - Multiply two numbers together.\n",
      "add(x: int, y: int) -> int - Add two numbers.\n"
     ]
    }
   ],
   "source": [
    "from langchain_core.output_parsers import JsonOutputParser\n",
    "from langchain_core.prompts import ChatPromptTemplate\n",
    "from langchain_core.tools import render_text_description\n",
    "\n",
    "rendered_tools = render_text_description(tools)\n",
    "print(rendered_tools)"
   ]
  },
  {
   "cell_type": "code",
   "execution_count": 29,
   "id": "f02f1dce-76e7-4ca9-9bac-5af496131fe1",
   "metadata": {},
   "outputs": [],
   "source": [
    "system_prompt = f\"\"\"\\\n",
    "You are an assistant that has access to the following set of tools. \n",
    "Here are the names and descriptions for each tool:\n",
    "\n",
    "{rendered_tools}\n",
    "\n",
    "Given the user input, return the name and input of the tool to use. \n",
    "Return your response as a JSON blob with 'name' and 'arguments' keys.\n",
    "\n",
    "The `arguments` should be a dictionary, with keys corresponding \n",
    "to the argument names and the values corresponding to the requested values.\n",
    "\"\"\"\n",
    "\n",
    "prompt = ChatPromptTemplate.from_messages(\n",
    "    [(\"system\", system_prompt), (\"user\", \"{input}\")]\n",
    ")"
   ]
  },
  {
   "cell_type": "code",
   "execution_count": 30,
   "id": "f8623e03-60eb-4439-b57b-ecbcebc61b58",
   "metadata": {},
   "outputs": [
    {
     "name": "stdout",
     "output_type": "stream",
     "text": [
      "```json\n",
      "{\n",
      "  \"name\": \"add\",\n",
      "  \"arguments\": {\n",
      "    \"x\": 3,\n",
      "    \"y\": 1132\n",
      "  }\n",
      "}\n",
      "```\n",
      "\n",
      "The add tool is used because we're adding two numbers together. Here are the values for each argument in our case:\n",
      "- `x`: The first number to be added (smaller or less significant). In this example, it's 3.\n",
      "- `y`: The second number to be added (larger or more significant). Here, it'd be 1132. Since the add function takes integers as inputs and we have a decimal point in one of our numbers here I will convert that into an integer by taking only its integral part before adding which would give us `add(x: 3 , y: 1130)` or else, if you want to consider just the number without rounding off then it can be done as add(x:3.0,y: 1132) where we are considering decimal part also in our input and treating them as a float so that they don't affect addition of two numbers here\n",
      "\n"
     ]
    }
   ],
   "source": [
    "chain = prompt | model\n",
    "message = chain.invoke({\"input\": \"what's 3 plus 1132\"})\n",
    "\n",
    "# Let's take a look at the output from the model\n",
    "# if the model is an LLM (not a chat model), the output will be a string.\n",
    "if isinstance(message, str):\n",
    "    print(message)\n",
    "else:  # Otherwise it's a chat model\n",
    "    print(message.content)"
   ]
  },
  {
   "cell_type": "markdown",
   "id": "14df2cd5-b6fa-4b10-892d-e8692c7931e5",
   "metadata": {},
   "source": [
    "## Adding an output parser\n",
    "\n",
    "We'll use the `JsonOutputParser` for parsing our models output to JSON."
   ]
  },
  {
   "cell_type": "code",
   "execution_count": 31,
   "id": "f129f5bd-127c-4c95-8f34-8f437da7ca8f",
   "metadata": {},
   "outputs": [
    {
     "data": {
      "text/plain": [
       "{'name': 'multiply', 'arguments': {'x': 13, 'y': 4}}"
      ]
     },
     "execution_count": 31,
     "metadata": {},
     "output_type": "execute_result"
    }
   ],
   "source": [
    "from langchain_core.output_parsers import JsonOutputParser\n",
    "\n",
    "chain = prompt | model | JsonOutputParser()\n",
    "chain.invoke({\"input\": \"what's thirteen times 4\"})"
   ]
  },
  {
   "cell_type": "markdown",
   "id": "e1f08255-f146-4f4a-be43-5c21c1d3ae83",
   "metadata": {},
   "source": [
    ":::{.callout-important}\n",
    "\n",
    "🎉 Amazing! 🎉 We now instructed our model on how to **request** that a tool be invoked.\n",
    "\n",
    "Now, let's create some logic to actually run the tool!\n",
    ":::"
   ]
  },
  {
   "cell_type": "markdown",
   "id": "8e29dd4c-8eb5-457f-92d1-8add076404dc",
   "metadata": {},
   "source": [
    "## Invoking the tool 🏃\n",
    "\n",
    "Now that the model can request that a tool be invoked, we need to write a function that can actually invoke \n",
    "the tool.\n",
    "\n",
    "The function will select the appropriate tool by name, and pass to it the arguments chosen by the model."
   ]
  },
  {
   "cell_type": "code",
   "execution_count": 32,
   "id": "faee95e0-4095-4310-991f-9e9465c6738e",
   "metadata": {},
   "outputs": [],
   "source": [
    "from typing import Any, Dict, Optional, TypedDict\n",
    "\n",
    "from langchain_core.runnables import RunnableConfig\n",
    "\n",
    "\n",
    "class ToolCallRequest(TypedDict):\n",
    "    \"\"\"A typed dict that shows the inputs into the invoke_tool function.\"\"\"\n",
    "\n",
    "    name: str\n",
    "    arguments: Dict[str, Any]\n",
    "\n",
    "\n",
    "def invoke_tool(\n",
    "    tool_call_request: ToolCallRequest, config: Optional[RunnableConfig] = None\n",
    "):\n",
    "    \"\"\"A function that we can use the perform a tool invocation.\n",
    "\n",
    "    Args:\n",
    "        tool_call_request: a dict that contains the keys name and arguments.\n",
    "            The name must match the name of a tool that exists.\n",
    "            The arguments are the arguments to that tool.\n",
    "        config: This is configuration information that LangChain uses that contains\n",
    "            things like callbacks, metadata, etc.See LCEL documentation about RunnableConfig.\n",
    "\n",
    "    Returns:\n",
    "        output from the requested tool\n",
    "    \"\"\"\n",
    "    tool_name_to_tool = {tool.name: tool for tool in tools}\n",
    "    name = tool_call_request[\"name\"]\n",
    "    requested_tool = tool_name_to_tool[name]\n",
    "    return requested_tool.invoke(tool_call_request[\"arguments\"], config=config)"
   ]
  },
  {
   "cell_type": "markdown",
   "id": "f4957532-9e0c-47f6-bb62-0fd789ac1d3e",
   "metadata": {},
   "source": [
    "Let's test this out 🧪!"
   ]
  },
  {
   "cell_type": "code",
   "execution_count": 33,
   "id": "d0ea3b2a-8fb2-4016-83c8-a5d3e78fedbc",
   "metadata": {},
   "outputs": [
    {
     "data": {
      "text/plain": [
       "15.0"
      ]
     },
     "execution_count": 33,
     "metadata": {},
     "output_type": "execute_result"
    }
   ],
   "source": [
    "invoke_tool({\"name\": \"multiply\", \"arguments\": {\"x\": 3, \"y\": 5}})"
   ]
  },
  {
   "cell_type": "markdown",
   "id": "715af6e1-935d-4bc0-a3d2-646ecf8a329b",
   "metadata": {},
   "source": [
    "## Let's put it together\n",
    "\n",
    "Let's put it together into a chain that creates a calculator with add and multiplication capabilities."
   ]
  },
  {
   "cell_type": "code",
   "execution_count": 34,
   "id": "0555b384-fde6-4404-86e0-7ea199003d58",
   "metadata": {},
   "outputs": [
    {
     "data": {
      "text/plain": [
       "53.83784653"
      ]
     },
     "execution_count": 34,
     "metadata": {},
     "output_type": "execute_result"
    }
   ],
   "source": [
    "chain = prompt | model | JsonOutputParser() | invoke_tool\n",
    "chain.invoke({\"input\": \"what's thirteen times 4.14137281\"})"
   ]
  },
  {
   "cell_type": "markdown",
   "id": "b4a9c5aa-f60a-4017-af6f-1ff6e04bfb61",
   "metadata": {},
   "source": [
    "## Returning tool inputs\n",
    "\n",
    "It can be helpful to return not only tool outputs but also tool inputs. We can easily do this with LCEL by `RunnablePassthrough.assign`-ing the tool output. This will take whatever the input is to the RunnablePassrthrough components (assumed to be a dictionary) and add a key to it while still passing through everything that's currently in the input:"
   ]
  },
  {
   "cell_type": "code",
   "execution_count": 35,
   "id": "45404406-859d-4caa-8b9d-5838162c80a0",
   "metadata": {},
   "outputs": [
    {
     "data": {
      "text/plain": [
       "{'name': 'multiply',\n",
       " 'arguments': {'x': 13, 'y': 4.14137281},\n",
       " 'output': 53.83784653}"
      ]
     },
     "execution_count": 35,
     "metadata": {},
     "output_type": "execute_result"
    }
   ],
   "source": [
    "from langchain_core.runnables import RunnablePassthrough\n",
    "\n",
    "chain = (\n",
    "    prompt | model | JsonOutputParser() | RunnablePassthrough.assign(output=invoke_tool)\n",
    ")\n",
    "chain.invoke({\"input\": \"what's thirteen times 4.14137281\"})"
   ]
  },
  {
   "cell_type": "markdown",
   "id": "1797fe82-ea35-4cba-834a-1caf9740d184",
   "metadata": {},
   "source": [
    "## What's next?\n",
    "\n",
    "This how-to guide shows the \"happy path\" when the model correctly outputs all the required tool information.\n",
    "\n",
    "In reality, if you're using more complex tools, you will start encountering errors from the model, especially for models that have not been fine tuned for tool calling and for less capable models.\n",
    "\n",
    "You will need to be prepared to add strategies to improve the output from the model; e.g.,\n",
    "\n",
    "1. Provide few shot examples.\n",
    "2. Add error handling (e.g., catch the exception and feed it back to the LLM to ask it to correct its previous output)."
   ]
  },
  {
   "cell_type": "markdown",
   "id": "4aa3f951",
   "metadata": {},
   "source": [
    "# **Enhanced Tool Invoker with Few-shot Examples and Error Handling**"
   ]
  },
  {
   "cell_type": "markdown",
   "id": "a1c616d5",
   "metadata": {},
   "source": [
    "**Ceeating tools**"
   ]
  },
  {
   "cell_type": "code",
   "execution_count": 3,
   "id": "39b803eb",
   "metadata": {},
   "outputs": [
    {
     "name": "stdout",
     "output_type": "stream",
     "text": [
      "--\n",
      "add\n",
      "Add two numbers.\n",
      "{'x': {'title': 'X', 'type': 'integer'}, 'y': {'title': 'Y', 'type': 'integer'}}\n",
      "--\n",
      "multiply\n",
      "Multiply two numbers together.\n",
      "{'x': {'title': 'X', 'type': 'number'}, 'y': {'title': 'Y', 'type': 'number'}}\n",
      "--\n",
      "subtract\n",
      "Subtract two numbers.\n",
      "{'x': {'title': 'X', 'type': 'integer'}, 'y': {'title': 'Y', 'type': 'integer'}}\n",
      "--\n",
      "divide\n",
      "Divide two numbers. Returns an error for division by zero.\n",
      "{'x': {'title': 'X', 'type': 'number'}, 'y': {'title': 'Y', 'type': 'number'}}\n",
      "--\n",
      "power\n",
      "Raise a number to a power.\n",
      "{'base': {'title': 'Base', 'type': 'number'}, 'exponent': {'title': 'Exponent', 'type': 'number'}}\n"
     ]
    }
   ],
   "source": [
    "from langchain_core.tools import tool\n",
    "\n",
    "@tool\n",
    "def add(x: int, y: int) -> int:\n",
    "    \"\"\"Add two numbers.\"\"\"\n",
    "    return x + y\n",
    "\n",
    "@tool\n",
    "def multiply(x: float, y: float) -> float:\n",
    "    \"\"\"Multiply two numbers together.\"\"\"\n",
    "    return x * y\n",
    "\n",
    "@tool\n",
    "def subtract(x: int, y: int) -> int:\n",
    "    \"\"\"Subtract two numbers.\"\"\"\n",
    "    return x - y\n",
    "\n",
    "@tool\n",
    "def divide(x: float, y: float) -> float:\n",
    "    \"\"\"Divide two numbers. Returns an error for division by zero.\"\"\"\n",
    "    if y == 0:\n",
    "        raise ValueError(\"Division by zero is not allowed.\")\n",
    "    return x / y\n",
    "\n",
    "@tool\n",
    "def power(base: float, exponent: float) -> float:\n",
    "    \"\"\"Raise a number to a power.\"\"\"\n",
    "    return base ** exponent\n",
    "\n",
    "# Collect all tools\n",
    "my_tools = [add, multiply, subtract, divide, power]\n",
    "\n",
    "# Let's inspect the tools\n",
    "for t in my_tools:\n",
    "    print(\"--\")\n",
    "    print(t.name)\n",
    "    print(t.description)\n",
    "    print(t.args)"
   ]
  },
  {
   "cell_type": "markdown",
   "id": "b28d693b",
   "metadata": {},
   "source": [
    "**Prompt creation using few-shot examples to guide the model**"
   ]
  },
  {
   "cell_type": "code",
   "execution_count": 4,
   "id": "79721f74",
   "metadata": {},
   "outputs": [
    {
     "name": "stdout",
     "output_type": "stream",
     "text": [
      "add(x: int, y: int) -> int - Add two numbers.\n",
      "multiply(x: float, y: float) -> float - Multiply two numbers together.\n",
      "subtract(x: int, y: int) -> int - Subtract two numbers.\n",
      "divide(x: float, y: float) -> float - Divide two numbers. Returns an error for division by zero.\n",
      "power(base: float, exponent: float) -> float - Raise a number to a power.\n"
     ]
    }
   ],
   "source": [
    "from langchain_core.prompts import ChatPromptTemplate\n",
    "from langchain_core.output_parsers import JsonOutputParser\n",
    "from langchain_core.tools import render_text_description\n",
    "\n",
    "rendered_tools = render_text_description(my_tools)\n",
    "print(rendered_tools)"
   ]
  },
  {
   "cell_type": "markdown",
   "id": "56a29bfb",
   "metadata": {},
   "source": [
    "**Prompt Design No. 01 - Not Used - too much details**\n",
    "\n",
    "system_prompt = \"\"\"\\\n",
    "You are an assistant that has access to the following set of tools. \n",
    "Here are the names and descriptions for each tool:\n",
    "\"\"\" + rendered_tools + \"\"\"\n",
    "\n",
    "Given the user input, return the name and input of the tool to use. \n",
    "Return your response as a JSON blob with 'name' and 'arguments' keys.\n",
    "\n",
    "The `arguments` should be a dictionary, with keys corresponding \n",
    "to the argument names and the values corresponding to the requested values.\n",
    "\n",
    "FOLLOW the ORDER of OPERATIONS: Parentheses, Exponents, Multiplication/Division, Addition/Subtraction.\n",
    "\n",
    "When answering:\n",
    "1. Return all operations in JSON format, step by step.\n",
    "2. Execute operations sequentially, passing intermediate results where necessary.\n",
    "3. For each step, include the tool name, arguments, and intermediate result.\n",
    "\n",
    "Here are some example inputs and the correspinding tools to call:\n",
    "\n",
    "###Example SINGLE-STEP Input:\n",
    "Input: What is 3 plus 5?\n",
    "function_call: {{\"name\": \"add\", \"arguments\": {{\"x\": 3, \"y\": 5}}, \"result\": 8}}\n",
    "\n",
    "Input: Multiply 4 by 6\n",
    "function_call: {{\"name\": \"multiply\", \"arguments\": {{\"x\": 4, \"y\": 6}}, \"result\": 24}}\n",
    "\n",
    "Input: What is 10 minus 4?\n",
    "function_call: {{\"name\": \"subtract\", \"arguments\": {{\"x\": 10, \"y\": 4}}, \"result\": 6}}\n",
    "\n",
    "Input: Divide 20 by 5\n",
    "function_call: {{\"name\": \"divide\", \"arguments\": {{\"x\": 20, \"y\": 5}}, \"result\": 4}}\n",
    "\n",
    "Input: What is 2 raised to the power of 3?\n",
    "function_call: {{\"name\": \"power\", \"arguments\": {{\"base\": 2, \"exponent\": 3}}, \"result\": 8}}\n",
    "\n",
    "###Example MULT-STEP Input:\n",
    "Input: What is (3 plus 5) times 2?\n",
    "function_call: {{\n",
    "    {{\"name\": \"add\", \"arguments\": {{\"x\": 3, \"y\": 5}}, \"result\": 8}},\n",
    "    {{\"name\": \"multiply\", \"arguments\": {{\"x\": 8, \"y\": 2}}, \"result\": 16}}\n",
    "}}\n",
    "\n",
    "Input: Raise 2 to the power of 3 and multiply the result by 4.\n",
    "function_call: {{\n",
    "    {{\"name\": \"power\", \"arguments\": {{\"base\": 2, \"exponent\": 3}}, \"result\": 8}},\n",
    "    {{\"name\": \"multiply\", \"arguments\": {{\"x\": 8, \"y\": 4}}, \"result\": 32}}\n",
    "}}\n",
    "\n",
    "### Rules:\n",
    "- Always respect the order of operations.\n",
    "- Include intermediate results for all steps.\n",
    "- Return only JSON output, no explanations or comments.\n",
    "\n",
    "The above are strict examples do not use them as user input.\n",
    "\"\"\"\n",
    "\n",
    "#prompt = ChatPromptTemplate([\n",
    "#    (\"system\", system_prompt),\n",
    "#    (\"user\", \"{input}\")\n",
    "#    (\"ai\", \"I'm doing well, thanks!\"),\n",
    "#    (\"human\", \"{user_input}\"),\n",
    "#])\n",
    "\n",
    "prompt = ChatPromptTemplate.from_messages(\n",
    "    [(\"system\", system_prompt), (\"user\", \"{input}\")]\n",
    ")"
   ]
  },
  {
   "cell_type": "markdown",
   "id": "45a2e50d",
   "metadata": {},
   "source": [
    "**Prompt Design No. 02 - Not Used - Need more work on details**\n",
    "\n",
    "system_prompt = \"\"\"\\\n",
    "You are an assistant that has access to the following tools:\n",
    "\"\"\" + rendered_tools + \"\"\"\n",
    "\n",
    "Given the user input, return the name and input of the tool to use.\n",
    "Return your response as a JSON blob with 'name', 'arguments', and 'result' keys.\n",
    "\n",
    "The `arguments` should be a dictionary, with keys corresponding\n",
    "to the argument names and the values corresponding to the requested values.\n",
    "\n",
    "FOLLOW the ORDER OF OPERATIONS: Parentheses, Exponents, Multiplication/Division, Addition/Subtraction.\n",
    "\n",
    "When answering:\n",
    "1. Break down multi-step calculations into sequential operations.\n",
    "2. Return all operations in JSON format, step by step, passing intermediate results where necessary.\n",
    "3. Each step must include the tool name, arguments, and the intermediate result.\n",
    "\n",
    "### Single-Step Example:\n",
    "Input: What is 3 plus 5?\n",
    "function_call: {{\"name\": \"add\", \"arguments\": {{\"x\": 3, \"y\": 5}}, \"result\": 8}}\n",
    "\n",
    "### Multi-Step Example:\n",
    "Input: What is (3 plus 5) times 2?\n",
    "function_call: {{\n",
    "    {{\"name\": \"add\", \"arguments\": {{\"x\": 3, \"y\": 5}}, \"result\": 8}},\n",
    "    {{\"name\": \"multiply\", \"arguments\": {{\"x\": 8, \"y\": 2}}, \"result\": 16}}\n",
    "}}\n",
    "\n",
    "### Rules:\n",
    "- Always respect the order of operations.\n",
    "- Return intermediate results for all steps.\n",
    "- Return only JSON output, no explanations or comments.\n",
    "\"\"\"\n",
    "\n",
    "prompt = ChatPromptTemplate.from_messages(\n",
    "    [(\"system\", system_prompt), (\"user\", \"{input}\")]\n",
    ")"
   ]
  },
  {
   "cell_type": "code",
   "execution_count": 5,
   "id": "be1f2784",
   "metadata": {},
   "outputs": [],
   "source": [
    "system_prompt = \"\"\"\\\n",
    "You are an assistant that has access to the following set of tools:\n",
    "\"\"\"+ rendered_tools +\"\"\"\n",
    "\n",
    "Given the user input, return all necessary operations in JSON format, step by step.\n",
    "Follow these rules:\n",
    "1. Respect the order of operations: Parentheses, Exponents, Multiplication/Division, Addition/Subtraction.\n",
    "2. For multi-step operations, return a list of operations in sequence.\n",
    "3. Each step should include:\n",
    "   - The tool name (e.g., \"add\", \"divide\").\n",
    "   - The arguments for the tool.\n",
    "   - The result of the operation.\n",
    "\n",
    "### Single-Step Example:\n",
    "Input: What is 5 plus 7?\n",
    "Expected Output: {{\"name\": \"add\", \"arguments\": {{\"x\": 5, \"y\": 7}}, \"result\": 12}}\n",
    "\n",
    "### Multi-Step Example:\n",
    "Input: What is (3 plus 5) times 2?\n",
    "Expected Output: {{\n",
    "    {{\"name\": \"add\", \"arguments\": {{\"x\": 3, \"y\": 5}}, \"result\": 8}},\n",
    "    {{\"name\": \"multiply\", \"arguments\": {{\"x\": 8, \"y\": 2}}, \"result\": 16}}\n",
    "}}\n",
    "\n",
    "Input: Raise 2 to the power of 3 and multiply the result by 4.\n",
    "Expected Output: {{\n",
    "    {{\"name\": \"power\", \"arguments\": {{\"base\": 2, \"exponent\": 3}}, \"result\": 8}},\n",
    "    {{\"name\": \"multiply\", \"arguments\": {{\"x\": 8, \"y\": 4}}, \"result\": 32}}\n",
    "}}\n",
    "\n",
    "Return only JSON output. No explanations or comments.\n",
    "\"\"\"\n",
    "\n",
    "prompt = ChatPromptTemplate.from_messages([\n",
    "    (\"system\", system_prompt),\n",
    "    (\"user\", \"{input}\")\n",
    "])"
   ]
  },
  {
   "cell_type": "markdown",
   "id": "8462ef51",
   "metadata": {},
   "source": [
    "**Define the structure for tool call requests**"
   ]
  },
  {
   "cell_type": "code",
   "execution_count": 6,
   "id": "b0f8633b",
   "metadata": {},
   "outputs": [],
   "source": [
    "from typing import Any, Dict, Optional, TypedDict\n",
    "from langchain_core.runnables import RunnableConfig\n",
    "\n",
    "\n",
    "class ToolCallRequest(TypedDict):\n",
    "    \"\"\"A typed dict that shows the inputs into the invoke_tool function.\"\"\"\n",
    "\n",
    "    name: str\n",
    "    arguments: Dict[str, Any]\n",
    "\n",
    "\n",
    "def invoke_tool(\n",
    "    tool_call_request: ToolCallRequest, config: Optional[RunnableConfig] = None\n",
    "):\n",
    "    \"\"\"A function that performs tool invocation with error handling.\n",
    "\n",
    "    Args:\n",
    "        tool_call_request: a dict that contains the keys name and arguments.\n",
    "            The name must match the name of a tool that exists.\n",
    "            The arguments are the arguments to that tool.\n",
    "        config: This is configuration information that LangChain uses that contains\n",
    "            things like callbacks, metadata, etc.See LCEL documentation about RunnableConfig.\n",
    "\n",
    "    Returns:\n",
    "        output from the requested tool or an error message.\n",
    "    \"\"\"\n",
    "    \n",
    "    # Map my_tools by their names\n",
    "    tool_name_to_tool = {tool.name: tool for tool in my_tools}\n",
    "\n",
    "    try:\n",
    "        # Extract tool name and arguments\n",
    "        name = tool_call_request[\"name\"]\n",
    "        arguments = tool_call_request[\"arguments\"]\n",
    "\n",
    "        # Check if the tool exists\n",
    "        if name not in tool_name_to_tool:\n",
    "            raise ValueError(f\"Tool '{name}' does not exist.\")\n",
    "\n",
    "        # Invoke the tool\n",
    "        requested_tool = tool_name_to_tool[name]\n",
    "        return requested_tool.invoke(arguments, config=config)\n",
    "\n",
    "    except ValueError as e:\n",
    "        return {\"error\": str(e)}\n",
    "\n",
    "    except Exception as e:\n",
    "        return {\"error\": f\"Unexpected error: {str(e)}\"}"
   ]
  },
  {
   "cell_type": "markdown",
   "id": "a7f1cf75",
   "metadata": {},
   "source": [
    "**Define the Process of the Operations**"
   ]
  },
  {
   "cell_type": "code",
   "execution_count": 7,
   "id": "c7ca40e0",
   "metadata": {},
   "outputs": [],
   "source": [
    "def process_operations(operations):\n",
    "    results = {}  # Store results of each step\n",
    "    intermediate_values = {}  # Map step results for further use\n",
    "\n",
    "    for step in operations:\n",
    "        # Extract tool name and arguments\n",
    "        tool_name = step[\"name\"]\n",
    "        arguments = step[\"arguments\"]\n",
    "\n",
    "        # Replace references to previous results with actual values\n",
    "        for arg_key, arg_value in arguments.items():\n",
    "            if isinstance(arg_value, str) and arg_value in intermediate_values:\n",
    "                arguments[arg_key] = intermediate_values[arg_value]\n",
    "\n",
    "        # Execute the current step\n",
    "        tool_call_request = {\"name\": tool_name, \"arguments\": arguments}\n",
    "        result = invoke_tool(tool_call_request)\n",
    "\n",
    "        # Validate result and store intermediate values\n",
    "        if isinstance(result, dict) and \"error\" not in result:\n",
    "            intermediate_values[f\"step_{len(results) + 1}\"] = result\n",
    "            results[f\"step_{len(results) + 1}\"] = result\n",
    "        else:\n",
    "            raise ValueError(f\"Error in step: {step}, result: {result}\")\n",
    "\n",
    "    return results, intermediate_values"
   ]
  },
  {
   "cell_type": "code",
   "execution_count": 8,
   "id": "bcd7dcb3",
   "metadata": {},
   "outputs": [],
   "source": [
    "from langchain_core.runnables import RunnablePassthrough\n",
    "\n",
    "chain = (\n",
    "    prompt | model | JsonOutputParser() | RunnablePassthrough.assign(output=invoke_tool)\n",
    ")"
   ]
  },
  {
   "cell_type": "markdown",
   "id": "14735b40",
   "metadata": {},
   "source": [
    "**Input Test No. 01**"
   ]
  },
  {
   "cell_type": "code",
   "execution_count": 9,
   "id": "2b07ebe1",
   "metadata": {},
   "outputs": [
    {
     "name": "stdout",
     "output_type": "stream",
     "text": [
      "Error: Invalid json output: {\n",
      "    {\"name\": \"divide\", \"arguments\": {\"x\": 10, \"y\": 2}, \"result\": 5},\n",
      "    {\"name\": \"multiply\", \"arguments\": {\"x\": 3, \"y\": 4}, \"result\": 12},\n",
      "    {\"name\": \"add\", \"arguments\": {\"x\": 5, \"y\": 12}, \"result\": 17}\n",
      "}\n",
      "For troubleshooting, visit: https://python.langchain.com/docs/troubleshooting/errors/OUTPUT_PARSING_FAILURE \n"
     ]
    }
   ],
   "source": [
    "# Example for parsing and handling the response\n",
    "try:\n",
    "    raw_response = chain.invoke({\"input\": \"What is (10 divided by 2) plus (3 times 4)?\"})\n",
    "    print(\"Raw Response:\", raw_response)\n",
    "\n",
    "    if isinstance(raw_response, dict) and \"operations\" in raw_response:\n",
    "        # Extract and process operations\n",
    "        operations = raw_response[\"operations\"]\n",
    "        processed_results, intermediate_values = process_operations(operations)\n",
    "\n",
    "        # Debugging outputs\n",
    "        print(\"Processed Results:\", processed_results)\n",
    "        print(\"Intermediate Values:\", intermediate_values)\n",
    "    else:\n",
    "        print(\"Unexpected response format:\", raw_response)\n",
    "except Exception as e:\n",
    "    print(\"Error:\", str(e))"
   ]
  },
  {
   "cell_type": "markdown",
   "id": "445fbc23",
   "metadata": {},
   "source": [
    "**Input Test No. 02**"
   ]
  },
  {
   "cell_type": "code",
   "execution_count": 10,
   "id": "c7935d64",
   "metadata": {},
   "outputs": [
    {
     "name": "stdout",
     "output_type": "stream",
     "text": [
      "Error: The input to RunnablePassthrough.assign() must be a dict.\n"
     ]
    }
   ],
   "source": [
    "# Example for parsing and handling the response\n",
    "try:\n",
    "    raw_response = chain.invoke({\"input\": \"What is 2 plus 2?\"})\n",
    "    print(\"Raw Response:\", raw_response)\n",
    "\n",
    "    if isinstance(raw_response, dict) and \"operations\" in raw_response:\n",
    "        # Extract and process operations\n",
    "        operations = raw_response[\"operations\"]\n",
    "        processed_results, intermediate_values = process_operations(operations)\n",
    "\n",
    "        # Debugging outputs\n",
    "        print(\"Processed Results:\", processed_results)\n",
    "        print(\"Intermediate Values:\", intermediate_values)\n",
    "    else:\n",
    "        print(\"Unexpected response format:\", raw_response)\n",
    "except Exception as e:\n",
    "    print(\"Error:\", str(e))"
   ]
  },
  {
   "cell_type": "markdown",
   "id": "00c61078",
   "metadata": {},
   "source": [
    "**Input Test No. 03**"
   ]
  },
  {
   "cell_type": "code",
   "execution_count": 11,
   "id": "24c65e05",
   "metadata": {},
   "outputs": [
    {
     "name": "stdout",
     "output_type": "stream",
     "text": [
      "Error: Invalid json output: {\n",
      "    {\"name\": \"add\", \"arguments\": {\"x\": 3, \"y\": 5}, \"result\": 8},\n",
      "    {\"name\": \"multiply\", \"arguments\": {\"x\": 8, \"y\": 2}, \"result\": 16}\n",
      "}\n",
      "For troubleshooting, visit: https://python.langchain.com/docs/troubleshooting/errors/OUTPUT_PARSING_FAILURE \n"
     ]
    }
   ],
   "source": [
    "# Example for parsing and handling the response\n",
    "try:\n",
    "    raw_response = chain.invoke({\"input\": \"What is (3 plus 5) times 2?\"})\n",
    "    print(\"Raw Response:\", raw_response)\n",
    "\n",
    "    if isinstance(raw_response, dict) and \"operations\" in raw_response:\n",
    "        # Extract and process operations\n",
    "        operations = raw_response[\"operations\"]\n",
    "        processed_results, intermediate_values = process_operations(operations)\n",
    "\n",
    "        # Debugging outputs\n",
    "        print(\"Processed Results:\", processed_results)\n",
    "        print(\"Intermediate Values:\", intermediate_values)\n",
    "    else:\n",
    "        print(\"Unexpected response format:\", raw_response)\n",
    "except Exception as e:\n",
    "    print(\"Error:\", str(e))"
   ]
  },
  {
   "cell_type": "markdown",
   "id": "15c31df6",
   "metadata": {},
   "source": [
    "**Input Test No. 04**"
   ]
  },
  {
   "cell_type": "code",
   "execution_count": 12,
   "id": "90d80e54",
   "metadata": {},
   "outputs": [
    {
     "name": "stdout",
     "output_type": "stream",
     "text": [
      "Error: Invalid json output: {\n",
      "    {\"name\": \"divide\", \"arguments\": {\"x\": 100, \"y\": 5}, \"result\": 20},\n",
      "    {\"name\": \"subtract\", \"arguments\": {\"x\": 20, \"y\": 3}, \"result\": 17}\n",
      "}\n",
      "For troubleshooting, visit: https://python.langchain.com/docs/troubleshooting/errors/OUTPUT_PARSING_FAILURE \n"
     ]
    }
   ],
   "source": [
    "# Example for parsing and handling the response\n",
    "try:\n",
    "    raw_response = chain.invoke({\"input\": \"Calculate 100 divided by 5 and then, the result minus 3.\"})\n",
    "    print(\"Raw Response:\", raw_response)\n",
    "\n",
    "    if isinstance(raw_response, dict) and \"operations\" in raw_response:\n",
    "        # Extract and process operations\n",
    "        operations = raw_response[\"operations\"]\n",
    "        processed_results, intermediate_values = process_operations(operations)\n",
    "\n",
    "        # Debugging outputs\n",
    "        print(\"Processed Results:\", processed_results)\n",
    "        print(\"Intermediate Values:\", intermediate_values)\n",
    "    else:\n",
    "        print(\"Unexpected response format:\", raw_response)\n",
    "except Exception as e:\n",
    "    print(\"Error:\", str(e))"
   ]
  },
  {
   "cell_type": "markdown",
   "id": "a2443b0a",
   "metadata": {},
   "source": [
    "**Input Test No. 05**"
   ]
  },
  {
   "cell_type": "code",
   "execution_count": 13,
   "id": "8f79d381",
   "metadata": {},
   "outputs": [
    {
     "name": "stdout",
     "output_type": "stream",
     "text": [
      "Error: Invalid json output: ```json\n",
      "{\n",
      "    {\"name\": \"power\", \"arguments\": {\"base\": 2, \"exponent\": 3}, \"result\": 8},\n",
      "    {\"name\": \"multiply\", \"arguments\": {\"x\": 8, \"y\": 4}, \"result\": 32}\n",
      "}\n",
      "```\n",
      "For troubleshooting, visit: https://python.langchain.com/docs/troubleshooting/errors/OUTPUT_PARSING_FAILURE \n"
     ]
    }
   ],
   "source": [
    "# Example for parsing and handling the response\n",
    "try:\n",
    "    raw_response = chain.invoke({\"input\": \"Raise 2 to the power of 3 and multiply the result by 4.\"})\n",
    "    print(\"Raw Response:\", raw_response)\n",
    "\n",
    "    if isinstance(raw_response, dict) and \"operations\" in raw_response:\n",
    "        # Extract and process operations\n",
    "        operations = raw_response[\"operations\"]\n",
    "        processed_results, intermediate_values = process_operations(operations)\n",
    "\n",
    "        # Debugging outputs\n",
    "        print(\"Processed Results:\", processed_results)\n",
    "        print(\"Intermediate Values:\", intermediate_values)\n",
    "    else:\n",
    "        print(\"Unexpected response format:\", raw_response)\n",
    "except Exception as e:\n",
    "    print(\"Error:\", str(e))"
   ]
  },
  {
   "cell_type": "markdown",
   "id": "e81e550f",
   "metadata": {},
   "source": [
    "**Input Test No. 06**"
   ]
  },
  {
   "cell_type": "code",
   "execution_count": 18,
   "id": "b09eaa5e",
   "metadata": {},
   "outputs": [
    {
     "name": "stdout",
     "output_type": "stream",
     "text": [
      "Error: Invalid json output: {\n",
      "    {\"name\": \"add\", \"arguments\": {\"x\": 10, \"y\": 5}, \"result\": 15},\n",
      "    {\"name\": \"divide\", \"arguments\": {\"x\": 15, \"y\": 3}, \"result\": 5.0},\n",
      "    {\"name\": \"power\", \"arguments\": {\"base\": 5.0, \"exponent\": 2}, \"result\": 25.0}\n",
      "}\n",
      "For troubleshooting, visit: https://python.langchain.com/docs/troubleshooting/errors/OUTPUT_PARSING_FAILURE \n"
     ]
    }
   ],
   "source": [
    "# Example for parsing and handling the response\n",
    "try:\n",
    "    raw_response = chain.invoke({\"input\": \"Add 10 and 5, divide the result by 3, and then use this result as the base and raise it to a power of 2.\"})\n",
    "    print(\"Raw Response:\", raw_response)\n",
    "\n",
    "    if isinstance(raw_response, dict) and \"operations\" in raw_response:\n",
    "        # Extract and process operations\n",
    "        operations = raw_response[\"operations\"]\n",
    "        processed_results, intermediate_values = process_operations(operations)\n",
    "\n",
    "        # Debugging outputs\n",
    "        print(\"Processed Results:\", processed_results)\n",
    "        print(\"Intermediate Values:\", intermediate_values)\n",
    "    else:\n",
    "        print(\"Unexpected response format:\", raw_response)\n",
    "except Exception as e:\n",
    "    print(\"Error:\", str(e))"
   ]
  },
  {
   "cell_type": "markdown",
   "id": "828ed5a5",
   "metadata": {},
   "source": [
    "**Input Test No. 07 Error Case Check (Division by Zero)**"
   ]
  },
  {
   "cell_type": "code",
   "execution_count": 19,
   "id": "3e68534f",
   "metadata": {},
   "outputs": [
    {
     "name": "stdout",
     "output_type": "stream",
     "text": [
      "Raw Response: {'name': 'error', 'message': 'division by zero', 'output': {'error': \"Unexpected error: 'arguments'\"}}\n",
      "Unexpected response format: {'name': 'error', 'message': 'division by zero', 'output': {'error': \"Unexpected error: 'arguments'\"}}\n"
     ]
    }
   ],
   "source": [
    "# Example for parsing and handling the response\n",
    "try:\n",
    "    raw_response = chain.invoke({\"input\": \"Divide 10 by 0 and add 5 to the result.\"})\n",
    "    print(\"Raw Response:\", raw_response)\n",
    "\n",
    "    if isinstance(raw_response, dict) and \"operations\" in raw_response:\n",
    "        # Extract and process operations\n",
    "        operations = raw_response[\"operations\"]\n",
    "        processed_results, intermediate_values = process_operations(operations)\n",
    "\n",
    "        # Debugging outputs\n",
    "        print(\"Processed Results:\", processed_results)\n",
    "        print(\"Intermediate Values:\", intermediate_values)\n",
    "    else:\n",
    "        print(\"Unexpected response format:\", raw_response)\n",
    "except Exception as e:\n",
    "    print(\"Error:\", str(e))"
   ]
  }
 ],
 "metadata": {
  "kernelspec": {
   "display_name": "Python 3 (ipykernel)",
   "language": "python",
   "name": "python3"
  },
  "language_info": {
   "codemirror_mode": {
    "name": "ipython",
    "version": 3
   },
   "file_extension": ".py",
   "mimetype": "text/x-python",
   "name": "python",
   "nbconvert_exporter": "python",
   "pygments_lexer": "ipython3",
   "version": "3.12.7"
  }
 },
 "nbformat": 4,
 "nbformat_minor": 5
}
